{
  "nbformat": 4,
  "nbformat_minor": 0,
  "metadata": {
    "colab": {
      "name": "read_audio.ipynb",
      "private_outputs": true,
      "provenance": []
    },
    "kernelspec": {
      "name": "python3",
      "display_name": "Python 3"
    },
    "language_info": {
      "name": "python"
    }
  },
  "cells": [
    {
      "cell_type": "markdown",
      "source": [
        "download a sample audio file into your local environment"
      ],
      "metadata": {
        "id": "bHc82u-EtbQV"
      }
    },
    {
      "cell_type": "code",
      "execution_count": null,
      "metadata": {
        "id": "f4jN0bGFtWnK"
      },
      "outputs": [],
      "source": [
        "# Import gdown module to download files from google drive\n",
        "import gdown\n",
        "#drive url: https://drive.google.com/file/d/1j2nosyvsIJFviYeSKjrlCldzqdUNscTj/view?usp=sharing\n",
        "download_url = 'http://www0.cs.ucl.ac.uk/teaching/GZ05/samples/tone.wav'\n",
        "file_location = 'tone.wav'\n",
        "# Download the file from drive to your local machine\n",
        "gdown.download(download_url, file_location, quiet=False)"
      ]
    },
    {
      "cell_type": "markdown",
      "source": [
        "Read the file"
      ],
      "metadata": {
        "id": "no1IcmvNuSvv"
      }
    },
    {
      "cell_type": "code",
      "source": [
        "import wave\n",
        "audio_file = wave.open(file_location, 'r')\n",
        "print(audio_file)"
      ],
      "metadata": {
        "id": "47kbpGqRuVbF"
      },
      "execution_count": null,
      "outputs": []
    },
    {
      "cell_type": "markdown",
      "source": [
        "Convert to bytes"
      ],
      "metadata": {
        "id": "fLYAk2ERvpCX"
      }
    },
    {
      "cell_type": "code",
      "source": [
        "sampling_rate = audio_file.getframerate()\n",
        "print('Sampling rate: ', sampling_rate)\n",
        "audio_wav_bytes = audio_file.readframes(-1)\n",
        "print(audio_wav_bytes)"
      ],
      "metadata": {
        "id": "QMRebMlgvr4V"
      },
      "execution_count": null,
      "outputs": []
    },
    {
      "cell_type": "markdown",
      "source": [
        "Convert bytes to integers"
      ],
      "metadata": {
        "id": "9FKoAMEuybkj"
      }
    },
    {
      "cell_type": "code",
      "source": [
        "import numpy as np\n",
        "# Convert buffer to int16 using NumPy                                                                                 \n",
        "audio_as_np_int16 = np.frombuffer(audio_wav_bytes, dtype=np.int16)"
      ],
      "metadata": {
        "id": "CsOOOdTfydwc"
      },
      "execution_count": null,
      "outputs": []
    },
    {
      "cell_type": "markdown",
      "source": [
        "Plot the numbers"
      ],
      "metadata": {
        "id": "qe4sXsWB3WSl"
      }
    },
    {
      "cell_type": "code",
      "source": [
        "# View the file\n",
        "import matplotlib.pyplot as plt\n",
        "plt.figure(1)\n",
        "plt.xlabel('Sample Number')\n",
        "plt.ylabel('Amplitude') \n",
        "plt.title(\"wave\")\n",
        "plt.plot(audio_as_np_int16)\n",
        "plt.show()"
      ],
      "metadata": {
        "id": "09iFMCuszLN-"
      },
      "execution_count": null,
      "outputs": []
    },
    {
      "cell_type": "markdown",
      "source": [
        "View a part of the file"
      ],
      "metadata": {
        "id": "ft_tOcgK4DeC"
      }
    },
    {
      "cell_type": "code",
      "source": [
        "# View the file\n",
        "import matplotlib.pyplot as plt\n",
        "plt.figure(1)\n",
        "plt.xlabel('Sample Number')\n",
        "plt.ylabel('Amplitude') \n",
        "plt.title(\"wav - 2000 Samples\")\n",
        "plt.plot(audio_as_np_int16[10000:12000])\n",
        "plt.show()"
      ],
      "metadata": {
        "id": "wm4Jot-b4F22"
      },
      "execution_count": null,
      "outputs": []
    },
    {
      "cell_type": "markdown",
      "source": [
        "Listen to the audio"
      ],
      "metadata": {
        "id": "OF8loUNp3xhS"
      }
    },
    {
      "cell_type": "code",
      "source": [
        "# Import IPython module to play the audio in the notebook\n",
        "import IPython\n",
        "# Play the downloaded audio file\n",
        "IPython.display.Audio(file_location, autoplay=True)"
      ],
      "metadata": {
        "id": "IpTHBrVN37qK"
      },
      "execution_count": null,
      "outputs": []
    }
  ]
}